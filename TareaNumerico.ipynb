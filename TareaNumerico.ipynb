{
 "metadata": {
  "language_info": {
   "codemirror_mode": {
    "name": "ipython",
    "version": 3
   },
   "file_extension": ".py",
   "mimetype": "text/x-python",
   "name": "python",
   "nbconvert_exporter": "python",
   "pygments_lexer": "ipython3",
   "version": "3.9.5"
  },
  "orig_nbformat": 4,
  "kernelspec": {
   "name": "python3",
   "display_name": "Python 3.9.5 64-bit (windows store)"
  },
  "interpreter": {
   "hash": "571633143b250467de1999a1c15ae67a740c8ed3ceebaf0d7850372b7d7c1896"
  }
 },
 "nbformat": 4,
 "nbformat_minor": 2,
 "cells": [
  {
   "cell_type": "code",
   "execution_count": null,
   "metadata": {},
   "outputs": [],
   "source": []
  },
  {
   "cell_type": "code",
   "execution_count": null,
   "metadata": {},
   "outputs": [],
   "source": []
  },
  {
   "cell_type": "code",
   "execution_count": null,
   "metadata": {},
   "outputs": [],
   "source": []
  },
  {
   "cell_type": "code",
   "execution_count": null,
   "metadata": {},
   "outputs": [],
   "source": []
  },
  {
   "cell_type": "code",
   "execution_count": 2,
   "metadata": {},
   "outputs": [],
   "source": [
    "from numpy import sign\n",
    "from numpy.lib.scimath import *\n",
    "import latex"
   ]
  },
  {
   "cell_type": "code",
   "execution_count": 7,
   "metadata": {},
   "outputs": [],
   "source": [
    "def f(x):\n",
    "    return x**2 - 6*x + 9"
   ]
  },
  {
   "cell_type": "code",
   "execution_count": 6,
   "metadata": {},
   "outputs": [],
   "source": [
    "def muller(x0, x1, x2, tol):\n",
    "    error = 10**3\n",
    "    x3 = 0\n",
    "    while(error > tol):\n",
    "        c = f(x2)\n",
    "        b = (((x0-x2)**2) * (f(x1)-f(x2)) - (x1-x2)**2 * (f(x0)-f(x2)))/((x0-x2) * (x1-x2) * (x0-x1))\n",
    "        a = ((x1-x2) * (f(x0)-f(x2)) - (x0-x2) * (f(x1)-f(x2)))/ ((x0-x2) * (x1-x2) * (x0-x1))\n",
    "        x3 = x2 - (2*c)/(b + sign(b) * sqrt(b**2 - 4*a*c))\n",
    "        error = abs(x3-x2)\n",
    "        x0 = x1 \n",
    "        x1 = x2\n",
    "        x2 = x3\n",
    "    return x3"
   ]
  },
  {
   "cell_type": "code",
   "execution_count": 8,
   "metadata": {},
   "outputs": [
    {
     "output_type": "execute_result",
     "data": {
      "text/plain": [
       "(3.0000000000000058+2.5809575005513547e-08j)"
      ]
     },
     "metadata": {},
     "execution_count": 8
    }
   ],
   "source": [
    "muller(2.6,3.2,3.8, 10**-5)"
   ]
  },
  {
   "cell_type": "code",
   "execution_count": null,
   "metadata": {},
   "outputs": [],
   "source": []
  },
  {
   "cell_type": "code",
   "execution_count": null,
   "metadata": {},
   "outputs": [],
   "source": []
  }
 ]
}